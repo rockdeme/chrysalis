{
 "cells": [
  {
   "cell_type": "code",
   "execution_count": null,
   "outputs": [],
   "source": [
    "from SpatialDE import test\n",
    "import pickle\n",
    "import pandas as pd\n",
    "import scanpy as sc\n",
    "import squidpy as sq\n",
    "\n",
    "data_path = '/mnt/c/Users/demeter_turos/PycharmProjects/chrysalis/data/cell2loc_human_lymph_node/'"
   ],
   "metadata": {
    "collapsed": false
   }
  },
  {
   "cell_type": "code",
   "execution_count": null,
   "outputs": [],
   "source": [
    "# BSP\n",
    "\n",
    "adata = sc.datasets.visium_sge(sample_id='V1_Human_Lymph_Node')\n",
    "\n",
    "adata.var_names_make_unique()\n",
    "\n",
    "sc.pp.calculate_qc_metrics(adata, inplace=True)\n",
    "sc.pp.filter_cells(adata, min_counts=6000)\n",
    "sc.pp.filter_genes(adata, min_cells=10)\n",
    "\n",
    "data = adata.to_df().astype(int)\n",
    "locs = adata.obsm['spatial']\n",
    "locs_df = pd.DataFrame(locs, columns=['x', 'y'])\n",
    "\n",
    "data.to_csv(data_path + 'lymph_node/counts.csv')\n",
    "locs_df.to_csv(data_path + 'lymph_node/locs.csv', index=False)\n",
    "\n",
    "# BSP was run via CLI using counts.csv and locs.csv\n",
    "# python BSP.py --datasetName lymph_node --spaLocFilename locs.csv --expFilename counts.csv"
   ],
   "metadata": {
    "collapsed": false
   }
  },
  {
   "cell_type": "code",
   "execution_count": null,
   "id": "577377be",
   "metadata": {},
   "outputs": [],
   "source": [
    "# spatialDE\n",
    "\n",
    "adata = sc.datasets.visium_sge(sample_id='V1_Human_Lymph_Node')\n",
    "\n",
    "adata.var_names_make_unique()\n",
    "\n",
    "sc.pp.calculate_qc_metrics(adata, inplace=True)\n",
    "sc.pp.filter_cells(adata, min_counts=6000)\n",
    "sc.pp.filter_genes(adata, min_cells=10)\n",
    "\n",
    "# sc.pp.normalize_total(adata, inplace=True)\n",
    "# sc.pp.log1p(adata)\n",
    "\n",
    "results_t = test(adata)\n",
    "\n",
    "with open(data_path + 'spatialde.pickle', 'wb') as handle:\n",
    "    pickle.dump(results_t, handle, protocol=pickle.HIGHEST_PROTOCOL)\n",
    "\n",
    "with open(data_path + 'spatialde.pickle', 'rb') as f:\n",
    "    test = pickle.load(f)\n",
    "\n",
    "test[0].to_csv(data_path + 'spatialde.csv')"
   ]
  },
  {
   "cell_type": "code",
   "execution_count": null,
   "id": "0ee072f2",
   "metadata": {},
   "outputs": [],
   "source": [
    "# Sepal\n",
    "\n",
    "adata = sc.datasets.visium_sge(sample_id='V1_Human_Lymph_Node')\n",
    "\n",
    "adata.var_names_make_unique()\n",
    "\n",
    "sc.pp.calculate_qc_metrics(adata, inplace=True)\n",
    "sc.pp.filter_cells(adata, min_counts=6000)\n",
    "sc.pp.filter_genes(adata, min_cells=10)\n",
    "\n",
    "sq.gr.spatial_neighbors(adata)\n",
    "genes = list(adata.var_names)\n",
    "sq.gr.sepal(adata, max_neighs=6, genes=genes, n_jobs=1)\n",
    "adata.uns[\"sepal_score\"].head(10)\n",
    "sepal_df = adata.uns[\"sepal_score\"]\n",
    "\n",
    "sepal_df.to_csv(data_path + 'sepal.csv')"
   ]
  }
 ],
 "metadata": {
  "kernelspec": {
   "display_name": "Python 3 (ipykernel)",
   "language": "python",
   "name": "python3"
  },
  "language_info": {
   "codemirror_mode": {
    "name": "ipython",
    "version": 3
   },
   "file_extension": ".py",
   "mimetype": "text/x-python",
   "name": "python",
   "nbconvert_exporter": "python",
   "pygments_lexer": "ipython3",
   "version": "3.8.15"
  }
 },
 "nbformat": 4,
 "nbformat_minor": 5
}
